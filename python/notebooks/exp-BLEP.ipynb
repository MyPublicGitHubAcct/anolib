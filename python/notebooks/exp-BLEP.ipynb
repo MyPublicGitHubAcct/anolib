{
 "cells": [
  {
   "cell_type": "markdown",
   "id": "fba56cb4-2d1d-4253-a0d0-30af6e443809",
   "metadata": {},
   "source": [
    "# BLEP experiments\n",
    "\n",
    "[Vadim's paper on synced sines](https://www.native-instruments.com/fileadmin/ni_media/downloads/pdf/SineSync.pdf) ==> SineSync.pdf  \n",
    "[KVR thread related to article above](https://www.kvraudio.com/forum/viewtopic.php?t=545105)\n"
   ]
  },
  {
   "cell_type": "markdown",
   "id": "3eb1386f-9e2f-41e9-963d-a92344a5c9b8",
   "metadata": {},
   "source": [
    "## Part 1: Simple BLEP Oscillator\n",
    "\n",
    "Based on [Mystran's description of BLEP's at KVR](https://www.kvraudio.com/forum/viewtopic.php?t=398553)\n"
   ]
  },
  {
   "cell_type": "code",
   "execution_count": null,
   "id": "b17974ff-1a8b-4c80-8723-ff4981c73a82",
   "metadata": {},
   "outputs": [],
   "source": []
  },
  {
   "cell_type": "code",
   "execution_count": null,
   "id": "9c9b9846-128a-4405-8598-6b3145eecadf",
   "metadata": {},
   "outputs": [],
   "source": []
  },
  {
   "cell_type": "code",
   "execution_count": null,
   "id": "d212041c-239a-4981-a591-de90f67c972e",
   "metadata": {},
   "outputs": [],
   "source": []
  },
  {
   "cell_type": "code",
   "execution_count": null,
   "id": "8a134604-8032-4dfb-8e1c-2dfee1a7c2c5",
   "metadata": {},
   "outputs": [],
   "source": []
  },
  {
   "cell_type": "code",
   "execution_count": null,
   "id": "35d5ccab-c12a-4ffb-9448-4fe0d0533f0f",
   "metadata": {},
   "outputs": [],
   "source": []
  },
  {
   "cell_type": "code",
   "execution_count": null,
   "id": "abb7f6b2-897d-4dde-870a-ebfa095f9194",
   "metadata": {},
   "outputs": [],
   "source": []
  }
 ],
 "metadata": {
  "kernelspec": {
   "display_name": "Python 3 (ipykernel)",
   "language": "python",
   "name": "python3"
  },
  "language_info": {
   "codemirror_mode": {
    "name": "ipython",
    "version": 3
   },
   "file_extension": ".py",
   "mimetype": "text/x-python",
   "name": "python",
   "nbconvert_exporter": "python",
   "pygments_lexer": "ipython3",
   "version": "3.11.4"
  }
 },
 "nbformat": 4,
 "nbformat_minor": 5
}
